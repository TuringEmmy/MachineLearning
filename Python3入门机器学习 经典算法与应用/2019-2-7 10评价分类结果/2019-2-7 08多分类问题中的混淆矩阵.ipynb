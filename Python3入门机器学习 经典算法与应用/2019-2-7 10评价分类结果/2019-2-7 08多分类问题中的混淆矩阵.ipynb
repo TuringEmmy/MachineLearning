{
 "cells": [
  {
   "cell_type": "code",
   "execution_count": 1,
   "metadata": {},
   "outputs": [],
   "source": [
    "import numpy as np\n",
    "import matplotlib.pyplot as  plt"
   ]
  },
  {
   "cell_type": "code",
   "execution_count": 2,
   "metadata": {},
   "outputs": [],
   "source": [
    "from sklearn import datasets\n",
    "\n",
    "digits = datasets.load_digits()\n",
    "X = digits.data\n",
    "y = digits.target"
   ]
  },
  {
   "cell_type": "code",
   "execution_count": 3,
   "metadata": {},
   "outputs": [],
   "source": [
    "from sklearn.model_selection import train_test_split\n",
    "X_train, X_test, y_train, y_test = train_test_split(X, y, test_size=0.8)"
   ]
  },
  {
   "cell_type": "code",
   "execution_count": 4,
   "metadata": {},
   "outputs": [
    {
     "data": {
      "text/plain": [
       "0.93115438108484"
      ]
     },
     "execution_count": 4,
     "metadata": {},
     "output_type": "execute_result"
    }
   ],
   "source": [
    "from sklearn.linear_model import LogisticRegression\n",
    "\n",
    "log_reg = LogisticRegression()\n",
    "log_reg.fit(X_train, y_train)\n",
    "log_reg.score(X_test, y_test)"
   ]
  },
  {
   "cell_type": "markdown",
   "metadata": {},
   "source": [
    "上面直接加载全部数据，已经不是二分类问题了，变成了十分类的问题"
   ]
  },
  {
   "cell_type": "markdown",
   "metadata": {},
   "source": [
    "逻辑回归的y_train如果是多值的时候，会使用OVR进行"
   ]
  },
  {
   "cell_type": "code",
   "execution_count": 5,
   "metadata": {},
   "outputs": [],
   "source": [
    "y_predict = log_reg.predict(X_test)"
   ]
  },
  {
   "cell_type": "code",
   "execution_count": 6,
   "metadata": {},
   "outputs": [
    {
     "data": {
      "text/plain": [
       "0.93115438108484"
      ]
     },
     "execution_count": 6,
     "metadata": {},
     "output_type": "execute_result"
    }
   ],
   "source": [
    "from sklearn.metrics import precision_score\n",
    "precision_score(y_test, y_predict, average=\"micro\")"
   ]
  },
  {
   "cell_type": "markdown",
   "metadata": {},
   "source": [
    "average这个参数默认是binary,进行二分类，当输入参数为多值的时候，就需要修改参数"
   ]
  },
  {
   "cell_type": "code",
   "execution_count": 7,
   "metadata": {},
   "outputs": [],
   "source": [
    "from sklearn.metrics import confusion_matrix"
   ]
  },
  {
   "cell_type": "code",
   "execution_count": 9,
   "metadata": {},
   "outputs": [
    {
     "data": {
      "text/plain": [
       "array([[142,   0,   0,   0,   2,   0,   0,   0,   0,   0],\n",
       "       [  0, 131,   0,   0,   0,   0,   0,   0,   4,   2],\n",
       "       [  0,   1, 135,   0,   0,   0,   0,   1,   6,   0],\n",
       "       [  0,   0,   1, 136,   0,   6,   0,   1,   3,   1],\n",
       "       [  0,   4,   0,   0, 140,   0,   0,   1,   0,   0],\n",
       "       [  0,   5,   0,   0,   0, 139,   1,   0,   1,   2],\n",
       "       [  0,   0,   0,   0,   1,   0, 142,   0,   3,   0],\n",
       "       [  0,   0,   0,   0,   1,   0,   0, 133,   6,   1],\n",
       "       [  0,   7,   2,   2,   0,   2,   7,   0, 118,   2],\n",
       "       [  0,   9,   0,   1,   0,   3,   0,   4,   6, 123]], dtype=int64)"
      ]
     },
     "execution_count": 9,
     "metadata": {},
     "output_type": "execute_result"
    }
   ],
   "source": [
    "confusion_matrix(y_test, y_predict)"
   ]
  },
  {
   "cell_type": "code",
   "execution_count": 10,
   "metadata": {},
   "outputs": [
    {
     "data": {
      "text/plain": [
       "<matplotlib.image.AxesImage at 0x22dddc8bc18>"
      ]
     },
     "execution_count": 10,
     "metadata": {},
     "output_type": "execute_result"
    },
    {
     "data": {
      "image/png": "[encoded data removed]",
      "text/plain": [
       "<Figure size 288x288 with 1 Axes>"
      ]
     },
     "metadata": {},
     "output_type": "display_data"
    }
   ],
   "source": [
    "cfm = confusion_matrix(y_test, y_predict)\n",
    "plt.matshow(cfm, cmap=plt.cm.gray)"
   ]
  },
  {
   "cell_type": "markdown",
   "metadata": {},
   "source": [
    "cmap是数字与颜色进行映射，plt.cm.gray是将其进行灰度化"
   ]
  },
  {
   "cell_type": "code",
   "execution_count": 11,
   "metadata": {},
   "outputs": [],
   "source": [
    "row_sums = np.sum(cfm, axis=1)"
   ]
  },
  {
   "cell_type": "code",
   "execution_count": 12,
   "metadata": {},
   "outputs": [
    {
     "data": {
      "text/plain": [
       "array([[0.        , 0.        , 0.        , 0.        , 0.0137931 ,\n",
       "        0.        , 0.        , 0.        , 0.        , 0.        ],\n",
       "       [0.        , 0.        , 0.        , 0.        , 0.        ,\n",
       "        0.        , 0.        , 0.        , 0.02857143, 0.01369863],\n",
       "       [0.        , 0.00729927, 0.        , 0.        , 0.        ,\n",
       "        0.        , 0.        , 0.0070922 , 0.04285714, 0.        ],\n",
       "       [0.        , 0.        , 0.00699301, 0.        , 0.        ,\n",
       "        0.04054054, 0.        , 0.0070922 , 0.02142857, 0.00684932],\n",
       "       [0.        , 0.02919708, 0.        , 0.        , 0.        ,\n",
       "        0.        , 0.        , 0.0070922 , 0.        , 0.        ],\n",
       "       [0.        , 0.03649635, 0.        , 0.        , 0.        ,\n",
       "        0.        , 0.00684932, 0.        , 0.00714286, 0.01369863],\n",
       "       [0.        , 0.        , 0.        , 0.        , 0.00689655,\n",
       "        0.        , 0.        , 0.        , 0.02142857, 0.        ],\n",
       "       [0.        , 0.        , 0.        , 0.        , 0.00689655,\n",
       "        0.        , 0.        , 0.        , 0.04285714, 0.00684932],\n",
       "       [0.        , 0.05109489, 0.01398601, 0.01351351, 0.        ,\n",
       "        0.01351351, 0.04794521, 0.        , 0.        , 0.01369863],\n",
       "       [0.        , 0.06569343, 0.        , 0.00675676, 0.        ,\n",
       "        0.02027027, 0.        , 0.02836879, 0.04285714, 0.        ]])"
      ]
     },
     "execution_count": 12,
     "metadata": {},
     "output_type": "execute_result"
    }
   ],
   "source": [
    "err_matrix = cfm / row_sums\n",
    "np.fill_diagonal(err_matrix, 0)   \n",
    "err_matrix"
   ]
  },
  {
   "cell_type": "code",
   "execution_count": 13,
   "metadata": {},
   "outputs": [
    {
     "data": {
      "text/plain": [
       "<matplotlib.image.AxesImage at 0x22ddde85b38>"
      ]
     },
     "execution_count": 13,
     "metadata": {},
     "output_type": "execute_result"
    },
    {
     "data": {
      "image/png": "[encoded data removed]",
      "text/plain": [
       "<Figure size 288x288 with 1 Axes>"
      ]
     },
     "metadata": {},
     "output_type": "display_data"
    }
   ],
   "source": [
    "plt.matshow(err_matrix, cmap=plt.cm.gray)"
   ]
  },
  {
   "cell_type": "markdown",
   "metadata": {},
   "source": [
    "越亮的地方，代表犯错越多的地方"
   ]
  }
 ],
 "metadata": {
  "kernelspec": {
   "display_name": "Python 3",
   "language": "python",
   "name": "python3"
  },
  "language_info": {
   "codemirror_mode": {
    "name": "ipython",
    "version": 3
   },
   "file_extension": ".py",
   "mimetype": "text/x-python",
   "name": "python",
   "nbconvert_exporter": "python",
   "pygments_lexer": "ipython3",
   "version": "3.6.5"
  }
 },
 "nbformat": 4,
 "nbformat_minor": 2
}
