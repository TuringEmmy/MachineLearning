{
 "cells": [
  {
   "cell_type": "code",
   "execution_count": 1,
   "metadata": {},
   "outputs": [],
   "source": [
    "import numpy as np\n",
    "import matplotlib\n",
    "from sklearn import datasets"
   ]
  },
  {
   "cell_type": "code",
   "execution_count": 2,
   "metadata": {},
   "outputs": [],
   "source": [
    "digits = datasets.load_digits()"
   ]
  },
  {
   "cell_type": "code",
   "execution_count": 3,
   "metadata": {},
   "outputs": [
    {
     "data": {
      "text/plain": [
       "dict_keys(['data', 'target', 'target_names', 'images', 'DESCR'])"
      ]
     },
     "execution_count": 3,
     "metadata": {},
     "output_type": "execute_result"
    }
   ],
   "source": [
    "digits.keys()"
   ]
  },
  {
   "cell_type": "code",
   "execution_count": 4,
   "metadata": {},
   "outputs": [
    {
     "name": "stdout",
     "output_type": "stream",
     "text": [
      "Optical Recognition of Handwritten Digits Data Set\n",
      "===================================================\n",
      "\n",
      "Notes\n",
      "-----\n",
      "Data Set Characteristics:\n",
      "    :Number of Instances: 5620\n",
      "    :Number of Attributes: 64\n",
      "    :Attribute Information: 8x8 image of integer pixels in the range 0..16.\n",
      "    :Missing Attribute Values: None\n",
      "    :Creator: E. Alpaydin (alpaydin '@' boun.edu.tr)\n",
      "    :Date: July; 1998\n",
      "\n",
      "This is a copy of the test set of the UCI ML hand-written digits datasets\n",
      "http://archive.ics.uci.edu/ml/datasets/Optical+Recognition+of+Handwritten+Digits\n",
      "\n",
      "The data set contains images of hand-written digits: 10 classes where\n",
      "each class refers to a digit.\n",
      "\n",
      "Preprocessing programs made available by NIST were used to extract\n",
      "normalized bitmaps of handwritten digits from a preprinted form. From a\n",
      "total of 43 people, 30 contributed to the training set and different 13\n",
      "to the test set. 32x32 bitmaps are divided into nonoverlapping blocks of\n",
      "4x4 and the number of on pixels are counted in each block. This generates\n",
      "an input matrix of 8x8 where each element is an integer in the range\n",
      "0..16. This reduces dimensionality and gives invariance to small\n",
      "distortions.\n",
      "\n",
      "For info on NIST preprocessing routines, see M. D. Garris, J. L. Blue, G.\n",
      "T. Candela, D. L. Dimmick, J. Geist, P. J. Grother, S. A. Janet, and C.\n",
      "L. Wilson, NIST Form-Based Handprint Recognition System, NISTIR 5469,\n",
      "1994.\n",
      "\n",
      "References\n",
      "----------\n",
      "  - C. Kaynak (1995) Methods of Combining Multiple Classifiers and Their\n",
      "    Applications to Handwritten Digit Recognition, MSc Thesis, Institute of\n",
      "    Graduate Studies in Science and Engineering, Bogazici University.\n",
      "  - E. Alpaydin, C. Kaynak (1998) Cascading Classifiers, Kybernetika.\n",
      "  - Ken Tang and Ponnuthurai N. Suganthan and Xi Yao and A. Kai Qin.\n",
      "    Linear dimensionalityreduction using relevance weighted LDA. School of\n",
      "    Electrical and Electronic Engineering Nanyang Technological University.\n",
      "    2005.\n",
      "  - Claudio Gentile. A New Approximate Maximal Margin Classification\n",
      "    Algorithm. NIPS. 2000.\n",
      "\n"
     ]
    }
   ],
   "source": [
    "print(digits.DESCR)"
   ]
  },
  {
   "cell_type": "code",
   "execution_count": 5,
   "metadata": {},
   "outputs": [
    {
     "data": {
      "text/plain": [
       "(1797, 64)"
      ]
     },
     "execution_count": 5,
     "metadata": {},
     "output_type": "execute_result"
    }
   ],
   "source": [
    "X = digits.data\n",
    "X.shape"
   ]
  },
  {
   "cell_type": "code",
   "execution_count": 6,
   "metadata": {},
   "outputs": [
    {
     "data": {
      "text/plain": [
       "(1797,)"
      ]
     },
     "execution_count": 6,
     "metadata": {},
     "output_type": "execute_result"
    }
   ],
   "source": [
    "y = digits.target\n",
    "y.shape"
   ]
  },
  {
   "cell_type": "code",
   "execution_count": 7,
   "metadata": {},
   "outputs": [
    {
     "data": {
      "text/plain": [
       "array([0, 1, 2, 3, 4, 5, 6, 7, 8, 9])"
      ]
     },
     "execution_count": 7,
     "metadata": {},
     "output_type": "execute_result"
    }
   ],
   "source": [
    "digits.target_names"
   ]
  },
  {
   "cell_type": "code",
   "execution_count": 8,
   "metadata": {},
   "outputs": [
    {
     "data": {
      "text/plain": [
       "array([0, 1, 2, 3, 4, 5, 6, 7, 8, 9, 0, 1, 2, 3, 4, 5, 6, 7, 8, 9])"
      ]
     },
     "execution_count": 8,
     "metadata": {},
     "output_type": "execute_result"
    }
   ],
   "source": [
    "y[:20]"
   ]
  },
  {
   "cell_type": "code",
   "execution_count": 9,
   "metadata": {},
   "outputs": [
    {
     "data": {
      "text/plain": [
       "array([[ 0.,  0.,  5., 13.,  9.,  1.,  0.,  0.,  0.,  0., 13., 15., 10.,\n",
       "        15.,  5.,  0.,  0.,  3., 15.,  2.,  0., 11.,  8.,  0.,  0.,  4.,\n",
       "        12.,  0.,  0.,  8.,  8.,  0.,  0.,  5.,  8.,  0.,  0.,  9.,  8.,\n",
       "         0.,  0.,  4., 11.,  0.,  1., 12.,  7.,  0.,  0.,  2., 14.,  5.,\n",
       "        10., 12.,  0.,  0.,  0.,  0.,  6., 13., 10.,  0.,  0.,  0.]])"
      ]
     },
     "execution_count": 9,
     "metadata": {},
     "output_type": "execute_result"
    }
   ],
   "source": [
    "X[:1]"
   ]
  },
  {
   "cell_type": "code",
   "execution_count": 10,
   "metadata": {},
   "outputs": [
    {
     "data": {
      "text/plain": [
       "7"
      ]
     },
     "execution_count": 10,
     "metadata": {},
     "output_type": "execute_result"
    }
   ],
   "source": [
    "some_digit = X[888]\n",
    "y[888]"
   ]
  },
  {
   "cell_type": "code",
   "execution_count": 11,
   "metadata": {},
   "outputs": [],
   "source": [
    "some_digit_image = some_digit.reshape(8,8)"
   ]
  },
  {
   "cell_type": "code",
   "execution_count": 12,
   "metadata": {},
   "outputs": [
    {
     "data": {
      "text/plain": [
       "<matplotlib.image.AxesImage at 0x227edaae128>"
      ]
     },
     "execution_count": 12,
     "metadata": {},
     "output_type": "execute_result"
    }
   ],
   "source": [
    "import matplotlib.pyplot as plt \n",
    "plt.imshow(some_digit_image,cmap=matplotlib.cm.binary)"
   ]
  },
  {
   "cell_type": "code",
   "execution_count": 13,
   "metadata": {},
   "outputs": [],
   "source": [
    "from KNN.model_selection import train_test_split"
   ]
  },
  {
   "cell_type": "code",
   "execution_count": 14,
   "metadata": {},
   "outputs": [],
   "source": [
    "X_train, X_test,y_train,y_test = train_test_split(X,y,test_ratio=0.2)"
   ]
  },
  {
   "cell_type": "code",
   "execution_count": 15,
   "metadata": {},
   "outputs": [],
   "source": [
    "from KNN.KNN_adver import KNNClassifier"
   ]
  },
  {
   "cell_type": "code",
   "execution_count": 16,
   "metadata": {},
   "outputs": [],
   "source": [
    "my_knn_clf = KNNClassifier(k=3)"
   ]
  },
  {
   "cell_type": "code",
   "execution_count": 17,
   "metadata": {},
   "outputs": [
    {
     "data": {
      "text/plain": [
       "KNN(k=3)"
      ]
     },
     "execution_count": 17,
     "metadata": {},
     "output_type": "execute_result"
    }
   ],
   "source": [
    "my_knn_clf.fit(X_train,y_train)"
   ]
  },
  {
   "cell_type": "code",
   "execution_count": 18,
   "metadata": {},
   "outputs": [
    {
     "data": {
      "text/plain": [
       "array([7, 6, 4, 2, 5, 0, 4, 3, 4, 5, 5, 7, 9, 9, 1, 3, 7, 4, 1, 0, 8, 5,\n",
       "       7, 6, 0, 5, 4, 3, 4, 6, 8, 2, 7, 7, 9, 8, 4, 9, 2, 8, 5, 6, 3, 7,\n",
       "       8, 6, 7, 9, 1, 0, 0, 3, 4, 0, 4, 3, 4, 6, 7, 5, 6, 2, 7, 7, 6, 1,\n",
       "       4, 4, 9, 9, 4, 4, 7, 1, 3, 4, 1, 3, 1, 2, 0, 0, 6, 9, 1, 2, 4, 6,\n",
       "       2, 7, 1, 6, 1, 2, 9, 2, 2, 0, 4, 8, 8, 3, 7, 2, 2, 9, 9, 7, 8, 1,\n",
       "       2, 9, 2, 9, 6, 8, 0, 9, 6, 8, 0, 4, 5, 6, 8, 4, 3, 2, 2, 0, 5, 7,\n",
       "       2, 3, 6, 5, 8, 5, 4, 8, 5, 4, 8, 3, 3, 1, 7, 9, 6, 0, 6, 5, 7, 1,\n",
       "       3, 3, 9, 8, 2, 1, 3, 9, 3, 0, 6, 1, 5, 1, 1, 8, 7, 7, 4, 1, 3, 2,\n",
       "       3, 3, 6, 2, 7, 6, 9, 9, 9, 6, 5, 6, 9, 8, 0, 0, 6, 1, 9, 3, 6, 3,\n",
       "       7, 8, 2, 2, 2, 1, 3, 0, 1, 4, 9, 4, 6, 3, 2, 3, 4, 8, 2, 9, 1, 2,\n",
       "       9, 1, 9, 2, 4, 1, 9, 7, 7, 4, 7, 1, 4, 2, 2, 5, 5, 8, 6, 1, 7, 8,\n",
       "       3, 7, 7, 9, 4, 4, 9, 5, 5, 5, 1, 5, 8, 0, 3, 1, 6, 6, 7, 9, 3, 7,\n",
       "       1, 4, 4, 0, 5, 1, 7, 1, 2, 2, 0, 8, 3, 1, 3, 0, 0, 9, 2, 1, 0, 5,\n",
       "       9, 7, 9, 5, 0, 9, 2, 2, 9, 2, 6, 0, 3, 8, 7, 2, 3, 6, 4, 0, 9, 9,\n",
       "       5, 4, 2, 0, 3, 3, 1, 5, 0, 1, 5, 7, 2, 0, 4, 5, 4, 0, 0, 9, 8, 3,\n",
       "       5, 0, 5, 4, 9, 5, 0, 8, 8, 3, 3, 4, 0, 1, 3, 4, 9, 2, 0, 0, 2, 0,\n",
       "       7, 4, 5, 2, 1, 3, 0])"
      ]
     },
     "execution_count": 18,
     "metadata": {},
     "output_type": "execute_result"
    }
   ],
   "source": [
    "y_predict = my_knn_clf.predict(X_test)\n",
    "y_predict"
   ]
  },
  {
   "cell_type": "code",
   "execution_count": 19,
   "metadata": {},
   "outputs": [
    {
     "data": {
      "text/plain": [
       "array([7, 6, 4, 2, 5, 0, 4, 3, 4, 5, 5, 7, 9, 9, 1, 3, 7, 4, 1, 0, 8, 5,\n",
       "       7, 6, 0, 5, 4, 3, 4, 6, 8, 2, 7, 7, 9, 8, 4, 9, 2, 8, 5, 6, 3, 7,\n",
       "       8, 6, 7, 9, 1, 0, 0, 3, 4, 0, 4, 3, 4, 6, 7, 5, 6, 2, 7, 7, 6, 1,\n",
       "       4, 4, 9, 9, 4, 4, 7, 1, 3, 4, 1, 3, 1, 2, 0, 0, 6, 9, 1, 2, 4, 6,\n",
       "       2, 7, 1, 6, 1, 2, 9, 2, 2, 0, 4, 8, 8, 3, 7, 2, 2, 9, 9, 7, 8, 1,\n",
       "       2, 9, 2, 9, 6, 8, 0, 9, 6, 8, 0, 4, 5, 6, 8, 4, 3, 2, 2, 0, 5, 7,\n",
       "       2, 3, 6, 5, 8, 5, 4, 8, 5, 4, 8, 3, 3, 1, 7, 9, 6, 0, 6, 5, 7, 1,\n",
       "       3, 3, 9, 8, 2, 1, 3, 9, 3, 0, 6, 1, 5, 1, 1, 8, 7, 7, 4, 1, 3, 2,\n",
       "       3, 3, 6, 2, 7, 6, 9, 9, 9, 6, 5, 6, 9, 8, 0, 0, 6, 1, 9, 3, 6, 3,\n",
       "       7, 8, 2, 2, 2, 1, 3, 0, 1, 4, 9, 4, 6, 3, 2, 3, 4, 8, 2, 9, 1, 2,\n",
       "       9, 1, 9, 2, 4, 1, 9, 7, 7, 4, 7, 1, 4, 2, 2, 5, 5, 8, 6, 1, 7, 8,\n",
       "       3, 7, 7, 9, 4, 4, 5, 5, 5, 5, 1, 5, 8, 0, 3, 1, 6, 6, 7, 9, 3, 7,\n",
       "       1, 4, 4, 0, 5, 1, 7, 1, 2, 2, 0, 8, 3, 1, 3, 0, 0, 9, 2, 1, 0, 5,\n",
       "       9, 7, 9, 5, 0, 9, 2, 2, 9, 2, 6, 0, 3, 8, 7, 2, 3, 6, 4, 0, 9, 9,\n",
       "       5, 4, 2, 0, 3, 3, 1, 5, 0, 1, 5, 7, 2, 0, 4, 5, 4, 0, 0, 9, 8, 3,\n",
       "       5, 0, 5, 4, 9, 5, 0, 8, 8, 3, 3, 4, 0, 1, 3, 4, 9, 2, 0, 0, 2, 0,\n",
       "       7, 4, 5, 2, 1, 3, 0])"
      ]
     },
     "execution_count": 19,
     "metadata": {},
     "output_type": "execute_result"
    }
   ],
   "source": [
    "y_test"
   ]
  },
  {
   "cell_type": "code",
   "execution_count": 20,
   "metadata": {},
   "outputs": [
    {
     "data": {
      "text/plain": [
       "0.9972144846796658"
      ]
     },
     "execution_count": 20,
     "metadata": {},
     "output_type": "execute_result"
    }
   ],
   "source": [
    "sum(y_predict == y_test) / len(y_test)"
   ]
  },
  {
   "cell_type": "code",
   "execution_count": 21,
   "metadata": {},
   "outputs": [],
   "source": [
    "from KNN.metrics import accuracy_score"
   ]
  },
  {
   "cell_type": "code",
   "execution_count": 22,
   "metadata": {},
   "outputs": [
    {
     "data": {
      "text/plain": [
       "0.9972144846796658"
      ]
     },
     "execution_count": 22,
     "metadata": {},
     "output_type": "execute_result"
    }
   ],
   "source": [
    "accuracy_score(y_test,y_predict)"
   ]
  },
  {
   "cell_type": "code",
   "execution_count": 24,
   "metadata": {},
   "outputs": [
    {
     "data": {
      "text/plain": [
       "0.9972144846796658"
      ]
     },
     "execution_count": 24,
     "metadata": {},
     "output_type": "execute_result"
    }
   ],
   "source": [
    "my_knn_clf.score(X_test,y_test)"
   ]
  },
  {
   "cell_type": "markdown",
   "metadata": {},
   "source": [
    "### scikit-learn 中的accuracy_score"
   ]
  },
  {
   "cell_type": "code",
   "execution_count": 26,
   "metadata": {},
   "outputs": [],
   "source": [
    "from sklearn.model_selection import train_test_split\n",
    "X_train, X_test,y_train,y_test = train_test_split(X,y,test_size=0.2,random_state=88)"
   ]
  },
  {
   "cell_type": "code",
   "execution_count": 27,
   "metadata": {},
   "outputs": [],
   "source": [
    "from sklearn.neighbors import KNeighborsClassifier\n",
    "\n",
    "knn_clf = KNeighborsClassifier(n_neighbors=3)"
   ]
  },
  {
   "cell_type": "code",
   "execution_count": 28,
   "metadata": {},
   "outputs": [
    {
     "data": {
      "text/plain": [
       "KNeighborsClassifier(algorithm='auto', leaf_size=30, metric='minkowski',\n",
       "           metric_params=None, n_jobs=1, n_neighbors=3, p=2,\n",
       "           weights='uniform')"
      ]
     },
     "execution_count": 28,
     "metadata": {},
     "output_type": "execute_result"
    }
   ],
   "source": [
    "knn_clf.fit(X_train, y_train)"
   ]
  },
  {
   "cell_type": "code",
   "execution_count": 30,
   "metadata": {},
   "outputs": [],
   "source": [
    "y_predict = knn_clf.predict(X_test)"
   ]
  },
  {
   "cell_type": "code",
   "execution_count": 31,
   "metadata": {},
   "outputs": [
    {
     "data": {
      "text/plain": [
       "0.9805555555555555"
      ]
     },
     "execution_count": 31,
     "metadata": {},
     "output_type": "execute_result"
    }
   ],
   "source": [
    "from sklearn.metrics import accuracy_score\n",
    "accuracy_score(y_test, y_predict)"
   ]
  },
  {
   "cell_type": "code",
   "execution_count": 32,
   "metadata": {},
   "outputs": [
    {
     "data": {
      "text/plain": [
       "0.9805555555555555"
      ]
     },
     "execution_count": 32,
     "metadata": {},
     "output_type": "execute_result"
    }
   ],
   "source": [
    "knn_clf.score(X_test, y_test)"
   ]
  }
 ],
 "metadata": {
  "kernelspec": {
   "display_name": "Python 3",
   "language": "python",
   "name": "python3"
  },
  "language_info": {
   "codemirror_mode": {
    "name": "ipython",
    "version": 3
   },
   "file_extension": ".py",
   "mimetype": "text/x-python",
   "name": "python",
   "nbconvert_exporter": "python",
   "pygments_lexer": "ipython3",
   "version": "3.6.5"
  }
 },
 "nbformat": 4,
 "nbformat_minor": 2
}
